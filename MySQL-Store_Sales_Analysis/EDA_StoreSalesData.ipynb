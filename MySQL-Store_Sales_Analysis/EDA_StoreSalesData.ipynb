{
 "cells": [
  {
   "cell_type": "code",
   "execution_count": 2,
   "metadata": {},
   "outputs": [],
   "source": [
    "# import libraries\n",
    "import numpy as np\n",
    "import pandas as pd\n",
    "import matplotlib.pyplot as plt\n",
    "import seaborn as sns"
   ]
  },
  {
   "cell_type": "code",
   "execution_count": 3,
   "metadata": {},
   "outputs": [],
   "source": [
    "# import dataset\n",
    "df = pd.read_csv('StoreSalesData.csv')"
   ]
  },
  {
   "cell_type": "code",
   "execution_count": 4,
   "metadata": {},
   "outputs": [
    {
     "data": {
      "text/html": [
       "<div>\n",
       "<style scoped>\n",
       "    .dataframe tbody tr th:only-of-type {\n",
       "        vertical-align: middle;\n",
       "    }\n",
       "\n",
       "    .dataframe tbody tr th {\n",
       "        vertical-align: top;\n",
       "    }\n",
       "\n",
       "    .dataframe thead th {\n",
       "        text-align: right;\n",
       "    }\n",
       "</style>\n",
       "<table border=\"1\" class=\"dataframe\">\n",
       "  <thead>\n",
       "    <tr style=\"text-align: right;\">\n",
       "      <th></th>\n",
       "      <th>Invoice ID</th>\n",
       "      <th>Branch</th>\n",
       "      <th>City</th>\n",
       "      <th>Customer type</th>\n",
       "      <th>Gender</th>\n",
       "      <th>Product line</th>\n",
       "      <th>Unit price</th>\n",
       "      <th>Quantity</th>\n",
       "      <th>Tax 5%</th>\n",
       "      <th>Total</th>\n",
       "      <th>Date</th>\n",
       "      <th>Time</th>\n",
       "      <th>Payment</th>\n",
       "      <th>cogs</th>\n",
       "      <th>gross margin percentage</th>\n",
       "      <th>gross income</th>\n",
       "      <th>Rating</th>\n",
       "    </tr>\n",
       "  </thead>\n",
       "  <tbody>\n",
       "    <tr>\n",
       "      <th>0</th>\n",
       "      <td>750-67-8428</td>\n",
       "      <td>A</td>\n",
       "      <td>Yangon</td>\n",
       "      <td>Member</td>\n",
       "      <td>Female</td>\n",
       "      <td>Health and beauty</td>\n",
       "      <td>74.69</td>\n",
       "      <td>7</td>\n",
       "      <td>26.1415</td>\n",
       "      <td>548.9715</td>\n",
       "      <td>2019-01-05</td>\n",
       "      <td>13:08:00</td>\n",
       "      <td>Ewallet</td>\n",
       "      <td>522.83</td>\n",
       "      <td>4.761905</td>\n",
       "      <td>26.1415</td>\n",
       "      <td>9.1</td>\n",
       "    </tr>\n",
       "    <tr>\n",
       "      <th>1</th>\n",
       "      <td>226-31-3081</td>\n",
       "      <td>C</td>\n",
       "      <td>Naypyitaw</td>\n",
       "      <td>Normal</td>\n",
       "      <td>Female</td>\n",
       "      <td>Electronic accessories</td>\n",
       "      <td>15.28</td>\n",
       "      <td>5</td>\n",
       "      <td>3.8200</td>\n",
       "      <td>80.2200</td>\n",
       "      <td>2019-03-08</td>\n",
       "      <td>10:29:00</td>\n",
       "      <td>Cash</td>\n",
       "      <td>76.40</td>\n",
       "      <td>4.761905</td>\n",
       "      <td>3.8200</td>\n",
       "      <td>9.6</td>\n",
       "    </tr>\n",
       "    <tr>\n",
       "      <th>2</th>\n",
       "      <td>631-41-3108</td>\n",
       "      <td>A</td>\n",
       "      <td>Yangon</td>\n",
       "      <td>Normal</td>\n",
       "      <td>Male</td>\n",
       "      <td>Home and lifestyle</td>\n",
       "      <td>46.33</td>\n",
       "      <td>7</td>\n",
       "      <td>16.2155</td>\n",
       "      <td>340.5255</td>\n",
       "      <td>2019-03-03</td>\n",
       "      <td>13:23:00</td>\n",
       "      <td>Credit card</td>\n",
       "      <td>324.31</td>\n",
       "      <td>4.761905</td>\n",
       "      <td>16.2155</td>\n",
       "      <td>7.4</td>\n",
       "    </tr>\n",
       "    <tr>\n",
       "      <th>3</th>\n",
       "      <td>123-19-1176</td>\n",
       "      <td>A</td>\n",
       "      <td>Yangon</td>\n",
       "      <td>Member</td>\n",
       "      <td>Male</td>\n",
       "      <td>Health and beauty</td>\n",
       "      <td>58.22</td>\n",
       "      <td>8</td>\n",
       "      <td>23.2880</td>\n",
       "      <td>489.0480</td>\n",
       "      <td>2019-01-27</td>\n",
       "      <td>20:33:00</td>\n",
       "      <td>Ewallet</td>\n",
       "      <td>465.76</td>\n",
       "      <td>4.761905</td>\n",
       "      <td>23.2880</td>\n",
       "      <td>8.4</td>\n",
       "    </tr>\n",
       "    <tr>\n",
       "      <th>4</th>\n",
       "      <td>373-73-7910</td>\n",
       "      <td>A</td>\n",
       "      <td>Yangon</td>\n",
       "      <td>Normal</td>\n",
       "      <td>Male</td>\n",
       "      <td>Sports and travel</td>\n",
       "      <td>86.31</td>\n",
       "      <td>7</td>\n",
       "      <td>30.2085</td>\n",
       "      <td>634.3785</td>\n",
       "      <td>2019-02-08</td>\n",
       "      <td>10:37:00</td>\n",
       "      <td>Ewallet</td>\n",
       "      <td>604.17</td>\n",
       "      <td>4.761905</td>\n",
       "      <td>30.2085</td>\n",
       "      <td>5.3</td>\n",
       "    </tr>\n",
       "  </tbody>\n",
       "</table>\n",
       "</div>"
      ],
      "text/plain": [
       "    Invoice ID Branch       City Customer type  Gender  \\\n",
       "0  750-67-8428      A     Yangon        Member  Female   \n",
       "1  226-31-3081      C  Naypyitaw        Normal  Female   \n",
       "2  631-41-3108      A     Yangon        Normal    Male   \n",
       "3  123-19-1176      A     Yangon        Member    Male   \n",
       "4  373-73-7910      A     Yangon        Normal    Male   \n",
       "\n",
       "             Product line  Unit price  Quantity   Tax 5%     Total  \\\n",
       "0       Health and beauty       74.69         7  26.1415  548.9715   \n",
       "1  Electronic accessories       15.28         5   3.8200   80.2200   \n",
       "2      Home and lifestyle       46.33         7  16.2155  340.5255   \n",
       "3       Health and beauty       58.22         8  23.2880  489.0480   \n",
       "4       Sports and travel       86.31         7  30.2085  634.3785   \n",
       "\n",
       "         Date      Time      Payment    cogs  gross margin percentage  \\\n",
       "0  2019-01-05  13:08:00      Ewallet  522.83                 4.761905   \n",
       "1  2019-03-08  10:29:00         Cash   76.40                 4.761905   \n",
       "2  2019-03-03  13:23:00  Credit card  324.31                 4.761905   \n",
       "3  2019-01-27  20:33:00      Ewallet  465.76                 4.761905   \n",
       "4  2019-02-08  10:37:00      Ewallet  604.17                 4.761905   \n",
       "\n",
       "   gross income  Rating  \n",
       "0       26.1415     9.1  \n",
       "1        3.8200     9.6  \n",
       "2       16.2155     7.4  \n",
       "3       23.2880     8.4  \n",
       "4       30.2085     5.3  "
      ]
     },
     "execution_count": 4,
     "metadata": {},
     "output_type": "execute_result"
    }
   ],
   "source": [
    "# EDA, Exploratory Data Analysis\n",
    "df.head()"
   ]
  },
  {
   "cell_type": "code",
   "execution_count": 5,
   "metadata": {},
   "outputs": [
    {
     "data": {
      "text/plain": [
       "Index(['Invoice ID', 'Branch', 'City', 'Customer type', 'Gender',\n",
       "       'Product line', 'Unit price', 'Quantity', 'Tax 5%', 'Total', 'Date',\n",
       "       'Time', 'Payment', 'cogs', 'gross margin percentage', 'gross income',\n",
       "       'Rating'],\n",
       "      dtype='object')"
      ]
     },
     "execution_count": 5,
     "metadata": {},
     "output_type": "execute_result"
    }
   ],
   "source": [
    "df.columns"
   ]
  },
  {
   "cell_type": "markdown",
   "metadata": {},
   "source": [
    "The database has 17 columns and no null values\n",
    "It referes to the sales of 6 product lines over 3 months in 3 branches in 3 different cities\n",
    "* invoice_id varchar(50)\n",
    "* branch varchar(10)\n",
    "* city varchar(50)\n",
    "* customer_type varchar(6)\n",
    "* gender varchar(25)\n",
    "* product_line varchar(100)\n",
    "* unit price decimal(6,2)\n",
    "* quantity INT\n",
    "* tax_5% decimal(10,4)\n",
    "* total decimal(12,4)\n",
    "* date DATETIME\n",
    "* time TIMESTAMP\n",
    "* payment varchar(20)\n",
    "* cogs decimal(8,2)\n",
    "* gross_mergine_pct decimal (10,2)\n",
    "* gross_income decimal(8,4)\n",
    "* rating decimal (3,1)"
   ]
  },
  {
   "cell_type": "code",
   "execution_count": 8,
   "metadata": {},
   "outputs": [
    {
     "name": "stdout",
     "output_type": "stream",
     "text": [
      "<class 'pandas.core.frame.DataFrame'>\n",
      "RangeIndex: 1000 entries, 0 to 999\n",
      "Data columns (total 17 columns):\n",
      " #   Column                   Non-Null Count  Dtype  \n",
      "---  ------                   --------------  -----  \n",
      " 0   Invoice ID               1000 non-null   object \n",
      " 1   Branch                   1000 non-null   object \n",
      " 2   City                     1000 non-null   object \n",
      " 3   Customer type            1000 non-null   object \n",
      " 4   Gender                   1000 non-null   object \n",
      " 5   Product line             1000 non-null   object \n",
      " 6   Unit price               1000 non-null   float64\n",
      " 7   Quantity                 1000 non-null   int64  \n",
      " 8   Tax 5%                   1000 non-null   float64\n",
      " 9   Total                    1000 non-null   float64\n",
      " 10  Date                     1000 non-null   object \n",
      " 11  Time                     1000 non-null   object \n",
      " 12  Payment                  1000 non-null   object \n",
      " 13  cogs                     1000 non-null   float64\n",
      " 14  gross margin percentage  1000 non-null   float64\n",
      " 15  gross income             1000 non-null   float64\n",
      " 16  Rating                   1000 non-null   float64\n",
      "dtypes: float64(7), int64(1), object(9)\n",
      "memory usage: 132.9+ KB\n"
     ]
    }
   ],
   "source": [
    "df.info()"
   ]
  },
  {
   "cell_type": "code",
   "execution_count": 7,
   "metadata": {},
   "outputs": [
    {
     "data": {
      "text/html": [
       "<div>\n",
       "<style scoped>\n",
       "    .dataframe tbody tr th:only-of-type {\n",
       "        vertical-align: middle;\n",
       "    }\n",
       "\n",
       "    .dataframe tbody tr th {\n",
       "        vertical-align: top;\n",
       "    }\n",
       "\n",
       "    .dataframe thead th {\n",
       "        text-align: right;\n",
       "    }\n",
       "</style>\n",
       "<table border=\"1\" class=\"dataframe\">\n",
       "  <thead>\n",
       "    <tr style=\"text-align: right;\">\n",
       "      <th></th>\n",
       "      <th>count</th>\n",
       "      <th>unique</th>\n",
       "      <th>top</th>\n",
       "      <th>freq</th>\n",
       "      <th>mean</th>\n",
       "      <th>std</th>\n",
       "      <th>min</th>\n",
       "      <th>25%</th>\n",
       "      <th>50%</th>\n",
       "      <th>75%</th>\n",
       "      <th>max</th>\n",
       "    </tr>\n",
       "  </thead>\n",
       "  <tbody>\n",
       "    <tr>\n",
       "      <th>Invoice ID</th>\n",
       "      <td>1000</td>\n",
       "      <td>1000</td>\n",
       "      <td>750-67-8428</td>\n",
       "      <td>1</td>\n",
       "      <td>NaN</td>\n",
       "      <td>NaN</td>\n",
       "      <td>NaN</td>\n",
       "      <td>NaN</td>\n",
       "      <td>NaN</td>\n",
       "      <td>NaN</td>\n",
       "      <td>NaN</td>\n",
       "    </tr>\n",
       "    <tr>\n",
       "      <th>Branch</th>\n",
       "      <td>1000</td>\n",
       "      <td>3</td>\n",
       "      <td>A</td>\n",
       "      <td>340</td>\n",
       "      <td>NaN</td>\n",
       "      <td>NaN</td>\n",
       "      <td>NaN</td>\n",
       "      <td>NaN</td>\n",
       "      <td>NaN</td>\n",
       "      <td>NaN</td>\n",
       "      <td>NaN</td>\n",
       "    </tr>\n",
       "    <tr>\n",
       "      <th>City</th>\n",
       "      <td>1000</td>\n",
       "      <td>3</td>\n",
       "      <td>Yangon</td>\n",
       "      <td>340</td>\n",
       "      <td>NaN</td>\n",
       "      <td>NaN</td>\n",
       "      <td>NaN</td>\n",
       "      <td>NaN</td>\n",
       "      <td>NaN</td>\n",
       "      <td>NaN</td>\n",
       "      <td>NaN</td>\n",
       "    </tr>\n",
       "    <tr>\n",
       "      <th>Customer type</th>\n",
       "      <td>1000</td>\n",
       "      <td>2</td>\n",
       "      <td>Member</td>\n",
       "      <td>501</td>\n",
       "      <td>NaN</td>\n",
       "      <td>NaN</td>\n",
       "      <td>NaN</td>\n",
       "      <td>NaN</td>\n",
       "      <td>NaN</td>\n",
       "      <td>NaN</td>\n",
       "      <td>NaN</td>\n",
       "    </tr>\n",
       "    <tr>\n",
       "      <th>Gender</th>\n",
       "      <td>1000</td>\n",
       "      <td>2</td>\n",
       "      <td>Female</td>\n",
       "      <td>501</td>\n",
       "      <td>NaN</td>\n",
       "      <td>NaN</td>\n",
       "      <td>NaN</td>\n",
       "      <td>NaN</td>\n",
       "      <td>NaN</td>\n",
       "      <td>NaN</td>\n",
       "      <td>NaN</td>\n",
       "    </tr>\n",
       "    <tr>\n",
       "      <th>Product line</th>\n",
       "      <td>1000</td>\n",
       "      <td>6</td>\n",
       "      <td>Fashion accessories</td>\n",
       "      <td>178</td>\n",
       "      <td>NaN</td>\n",
       "      <td>NaN</td>\n",
       "      <td>NaN</td>\n",
       "      <td>NaN</td>\n",
       "      <td>NaN</td>\n",
       "      <td>NaN</td>\n",
       "      <td>NaN</td>\n",
       "    </tr>\n",
       "    <tr>\n",
       "      <th>Unit price</th>\n",
       "      <td>1000.0</td>\n",
       "      <td>NaN</td>\n",
       "      <td>NaN</td>\n",
       "      <td>NaN</td>\n",
       "      <td>55.67213</td>\n",
       "      <td>26.494628</td>\n",
       "      <td>10.08</td>\n",
       "      <td>32.875</td>\n",
       "      <td>55.23</td>\n",
       "      <td>77.935</td>\n",
       "      <td>99.96</td>\n",
       "    </tr>\n",
       "    <tr>\n",
       "      <th>Quantity</th>\n",
       "      <td>1000.0</td>\n",
       "      <td>NaN</td>\n",
       "      <td>NaN</td>\n",
       "      <td>NaN</td>\n",
       "      <td>5.51</td>\n",
       "      <td>2.923431</td>\n",
       "      <td>1.0</td>\n",
       "      <td>3.0</td>\n",
       "      <td>5.0</td>\n",
       "      <td>8.0</td>\n",
       "      <td>10.0</td>\n",
       "    </tr>\n",
       "    <tr>\n",
       "      <th>Tax 5%</th>\n",
       "      <td>1000.0</td>\n",
       "      <td>NaN</td>\n",
       "      <td>NaN</td>\n",
       "      <td>NaN</td>\n",
       "      <td>15.379369</td>\n",
       "      <td>11.708825</td>\n",
       "      <td>0.5085</td>\n",
       "      <td>5.924875</td>\n",
       "      <td>12.088</td>\n",
       "      <td>22.44525</td>\n",
       "      <td>49.65</td>\n",
       "    </tr>\n",
       "    <tr>\n",
       "      <th>Total</th>\n",
       "      <td>1000.0</td>\n",
       "      <td>NaN</td>\n",
       "      <td>NaN</td>\n",
       "      <td>NaN</td>\n",
       "      <td>322.966749</td>\n",
       "      <td>245.885335</td>\n",
       "      <td>10.6785</td>\n",
       "      <td>124.422375</td>\n",
       "      <td>253.848</td>\n",
       "      <td>471.35025</td>\n",
       "      <td>1042.65</td>\n",
       "    </tr>\n",
       "    <tr>\n",
       "      <th>Date</th>\n",
       "      <td>1000</td>\n",
       "      <td>89</td>\n",
       "      <td>2019-02-07</td>\n",
       "      <td>20</td>\n",
       "      <td>NaN</td>\n",
       "      <td>NaN</td>\n",
       "      <td>NaN</td>\n",
       "      <td>NaN</td>\n",
       "      <td>NaN</td>\n",
       "      <td>NaN</td>\n",
       "      <td>NaN</td>\n",
       "    </tr>\n",
       "    <tr>\n",
       "      <th>Time</th>\n",
       "      <td>1000</td>\n",
       "      <td>506</td>\n",
       "      <td>19:48:00</td>\n",
       "      <td>7</td>\n",
       "      <td>NaN</td>\n",
       "      <td>NaN</td>\n",
       "      <td>NaN</td>\n",
       "      <td>NaN</td>\n",
       "      <td>NaN</td>\n",
       "      <td>NaN</td>\n",
       "      <td>NaN</td>\n",
       "    </tr>\n",
       "    <tr>\n",
       "      <th>Payment</th>\n",
       "      <td>1000</td>\n",
       "      <td>3</td>\n",
       "      <td>Ewallet</td>\n",
       "      <td>345</td>\n",
       "      <td>NaN</td>\n",
       "      <td>NaN</td>\n",
       "      <td>NaN</td>\n",
       "      <td>NaN</td>\n",
       "      <td>NaN</td>\n",
       "      <td>NaN</td>\n",
       "      <td>NaN</td>\n",
       "    </tr>\n",
       "    <tr>\n",
       "      <th>cogs</th>\n",
       "      <td>1000.0</td>\n",
       "      <td>NaN</td>\n",
       "      <td>NaN</td>\n",
       "      <td>NaN</td>\n",
       "      <td>307.58738</td>\n",
       "      <td>234.17651</td>\n",
       "      <td>10.17</td>\n",
       "      <td>118.4975</td>\n",
       "      <td>241.76</td>\n",
       "      <td>448.905</td>\n",
       "      <td>993.0</td>\n",
       "    </tr>\n",
       "    <tr>\n",
       "      <th>gross margin percentage</th>\n",
       "      <td>1000.0</td>\n",
       "      <td>NaN</td>\n",
       "      <td>NaN</td>\n",
       "      <td>NaN</td>\n",
       "      <td>4.761905</td>\n",
       "      <td>0.0</td>\n",
       "      <td>4.761905</td>\n",
       "      <td>4.761905</td>\n",
       "      <td>4.761905</td>\n",
       "      <td>4.761905</td>\n",
       "      <td>4.761905</td>\n",
       "    </tr>\n",
       "    <tr>\n",
       "      <th>gross income</th>\n",
       "      <td>1000.0</td>\n",
       "      <td>NaN</td>\n",
       "      <td>NaN</td>\n",
       "      <td>NaN</td>\n",
       "      <td>15.379369</td>\n",
       "      <td>11.708825</td>\n",
       "      <td>0.5085</td>\n",
       "      <td>5.924875</td>\n",
       "      <td>12.088</td>\n",
       "      <td>22.44525</td>\n",
       "      <td>49.65</td>\n",
       "    </tr>\n",
       "    <tr>\n",
       "      <th>Rating</th>\n",
       "      <td>1000.0</td>\n",
       "      <td>NaN</td>\n",
       "      <td>NaN</td>\n",
       "      <td>NaN</td>\n",
       "      <td>6.9727</td>\n",
       "      <td>1.71858</td>\n",
       "      <td>4.0</td>\n",
       "      <td>5.5</td>\n",
       "      <td>7.0</td>\n",
       "      <td>8.5</td>\n",
       "      <td>10.0</td>\n",
       "    </tr>\n",
       "  </tbody>\n",
       "</table>\n",
       "</div>"
      ],
      "text/plain": [
       "                          count unique                  top freq        mean  \\\n",
       "Invoice ID                 1000   1000          750-67-8428    1         NaN   \n",
       "Branch                     1000      3                    A  340         NaN   \n",
       "City                       1000      3               Yangon  340         NaN   \n",
       "Customer type              1000      2               Member  501         NaN   \n",
       "Gender                     1000      2               Female  501         NaN   \n",
       "Product line               1000      6  Fashion accessories  178         NaN   \n",
       "Unit price               1000.0    NaN                  NaN  NaN    55.67213   \n",
       "Quantity                 1000.0    NaN                  NaN  NaN        5.51   \n",
       "Tax 5%                   1000.0    NaN                  NaN  NaN   15.379369   \n",
       "Total                    1000.0    NaN                  NaN  NaN  322.966749   \n",
       "Date                       1000     89           2019-02-07   20         NaN   \n",
       "Time                       1000    506             19:48:00    7         NaN   \n",
       "Payment                    1000      3              Ewallet  345         NaN   \n",
       "cogs                     1000.0    NaN                  NaN  NaN   307.58738   \n",
       "gross margin percentage  1000.0    NaN                  NaN  NaN    4.761905   \n",
       "gross income             1000.0    NaN                  NaN  NaN   15.379369   \n",
       "Rating                   1000.0    NaN                  NaN  NaN      6.9727   \n",
       "\n",
       "                                std       min         25%       50%  \\\n",
       "Invoice ID                      NaN       NaN         NaN       NaN   \n",
       "Branch                          NaN       NaN         NaN       NaN   \n",
       "City                            NaN       NaN         NaN       NaN   \n",
       "Customer type                   NaN       NaN         NaN       NaN   \n",
       "Gender                          NaN       NaN         NaN       NaN   \n",
       "Product line                    NaN       NaN         NaN       NaN   \n",
       "Unit price                26.494628     10.08      32.875     55.23   \n",
       "Quantity                   2.923431       1.0         3.0       5.0   \n",
       "Tax 5%                    11.708825    0.5085    5.924875    12.088   \n",
       "Total                    245.885335   10.6785  124.422375   253.848   \n",
       "Date                            NaN       NaN         NaN       NaN   \n",
       "Time                            NaN       NaN         NaN       NaN   \n",
       "Payment                         NaN       NaN         NaN       NaN   \n",
       "cogs                      234.17651     10.17    118.4975    241.76   \n",
       "gross margin percentage         0.0  4.761905    4.761905  4.761905   \n",
       "gross income              11.708825    0.5085    5.924875    12.088   \n",
       "Rating                      1.71858       4.0         5.5       7.0   \n",
       "\n",
       "                               75%       max  \n",
       "Invoice ID                     NaN       NaN  \n",
       "Branch                         NaN       NaN  \n",
       "City                           NaN       NaN  \n",
       "Customer type                  NaN       NaN  \n",
       "Gender                         NaN       NaN  \n",
       "Product line                   NaN       NaN  \n",
       "Unit price                  77.935     99.96  \n",
       "Quantity                       8.0      10.0  \n",
       "Tax 5%                    22.44525     49.65  \n",
       "Total                    471.35025   1042.65  \n",
       "Date                           NaN       NaN  \n",
       "Time                           NaN       NaN  \n",
       "Payment                        NaN       NaN  \n",
       "cogs                       448.905     993.0  \n",
       "gross margin percentage   4.761905  4.761905  \n",
       "gross income              22.44525     49.65  \n",
       "Rating                         8.5      10.0  "
      ]
     },
     "execution_count": 7,
     "metadata": {},
     "output_type": "execute_result"
    }
   ],
   "source": [
    "df.describe(include='all').T"
   ]
  },
  {
   "cell_type": "code",
   "execution_count": 40,
   "metadata": {},
   "outputs": [
    {
     "name": "stdout",
     "output_type": "stream",
     "text": [
      "Cities: ['Yangon' 'Naypyitaw' 'Mandalay']\n",
      "Branches: ['A' 'C' 'B']\n",
      "Customerr type: ['Member' 'Normal']\n",
      "Gender: ['Female' 'Male']\n",
      "Product lines: ['Health and beauty' 'Electronic accessories' 'Home and lifestyle'\n",
      " 'Sports and travel' 'Food and beverages' 'Fashion accessories']\n",
      "Payment types: ['Ewallet' 'Cash' 'Credit card']\n"
     ]
    }
   ],
   "source": [
    "# Finding unique values for some of the object types columns\n",
    "\n",
    "unique_values_city = df['City'].unique()\n",
    "unique_values_branch = df['Branch'].unique()\n",
    "unique_values_customer_type = df['Customer type'].unique()\n",
    "unique_values_gender = df['Gender'].unique()\n",
    "unique_values_product_line = df['Product line'].unique()\n",
    "unique_values_payment_type = df['Payment'].unique()\n",
    "\n",
    "print(f'Cities:', unique_values_city)\n",
    "print(f'Branches:',unique_values_branch)\n",
    "print(f'Customerr type:', unique_values_customer_type)\n",
    "print(f'Gender:', unique_values_gender)\n",
    "print(f'Product lines:', unique_values_product_line)\n",
    "print(f'Payment types:', unique_values_payment_type)\n"
   ]
  },
  {
   "cell_type": "markdown",
   "metadata": {},
   "source": [
    "#### Creating 3 new columns with day name, month name and part of the day"
   ]
  },
  {
   "cell_type": "code",
   "execution_count": 46,
   "metadata": {},
   "outputs": [],
   "source": [
    "# Combine date and time columns into a single datetime column\n",
    "df['datetime'] = pd.to_datetime(df['Date'] + ' ' + df['Time'])"
   ]
  },
  {
   "cell_type": "code",
   "execution_count": 66,
   "metadata": {},
   "outputs": [],
   "source": [
    "# Extract day name, day part, and month name\n",
    "df['day_name'] = df['datetime'].dt.day_name()\n",
    "df['day_part'] = pd.cut(df['datetime'].dt.hour, bins=[0, 12, 18, 24], labels=['Morning', 'Afternoon', 'Evening'], right=False)\n",
    "df['month_name'] = df['datetime'].dt.strftime('%B')\n"
   ]
  },
  {
   "cell_type": "code",
   "execution_count": 67,
   "metadata": {},
   "outputs": [
    {
     "data": {
      "text/html": [
       "<div>\n",
       "<style scoped>\n",
       "    .dataframe tbody tr th:only-of-type {\n",
       "        vertical-align: middle;\n",
       "    }\n",
       "\n",
       "    .dataframe tbody tr th {\n",
       "        vertical-align: top;\n",
       "    }\n",
       "\n",
       "    .dataframe thead th {\n",
       "        text-align: right;\n",
       "    }\n",
       "</style>\n",
       "<table border=\"1\" class=\"dataframe\">\n",
       "  <thead>\n",
       "    <tr style=\"text-align: right;\">\n",
       "      <th></th>\n",
       "      <th>Invoice ID</th>\n",
       "      <th>Branch</th>\n",
       "      <th>City</th>\n",
       "      <th>Customer type</th>\n",
       "      <th>Gender</th>\n",
       "      <th>Product line</th>\n",
       "      <th>Unit price</th>\n",
       "      <th>Quantity</th>\n",
       "      <th>Tax 5%</th>\n",
       "      <th>Total</th>\n",
       "      <th>...</th>\n",
       "      <th>Time</th>\n",
       "      <th>Payment</th>\n",
       "      <th>cogs</th>\n",
       "      <th>gross margin percentage</th>\n",
       "      <th>gross income</th>\n",
       "      <th>Rating</th>\n",
       "      <th>datetime</th>\n",
       "      <th>day_name</th>\n",
       "      <th>day_part</th>\n",
       "      <th>month_name</th>\n",
       "    </tr>\n",
       "  </thead>\n",
       "  <tbody>\n",
       "    <tr>\n",
       "      <th>0</th>\n",
       "      <td>750-67-8428</td>\n",
       "      <td>A</td>\n",
       "      <td>Yangon</td>\n",
       "      <td>Member</td>\n",
       "      <td>Female</td>\n",
       "      <td>Health and beauty</td>\n",
       "      <td>74.69</td>\n",
       "      <td>7</td>\n",
       "      <td>26.1415</td>\n",
       "      <td>548.9715</td>\n",
       "      <td>...</td>\n",
       "      <td>13:08:00</td>\n",
       "      <td>Ewallet</td>\n",
       "      <td>522.83</td>\n",
       "      <td>4.761905</td>\n",
       "      <td>26.1415</td>\n",
       "      <td>9.1</td>\n",
       "      <td>2019-01-05 13:08:00</td>\n",
       "      <td>Saturday</td>\n",
       "      <td>Afternoon</td>\n",
       "      <td>January</td>\n",
       "    </tr>\n",
       "    <tr>\n",
       "      <th>1</th>\n",
       "      <td>226-31-3081</td>\n",
       "      <td>C</td>\n",
       "      <td>Naypyitaw</td>\n",
       "      <td>Normal</td>\n",
       "      <td>Female</td>\n",
       "      <td>Electronic accessories</td>\n",
       "      <td>15.28</td>\n",
       "      <td>5</td>\n",
       "      <td>3.8200</td>\n",
       "      <td>80.2200</td>\n",
       "      <td>...</td>\n",
       "      <td>10:29:00</td>\n",
       "      <td>Cash</td>\n",
       "      <td>76.40</td>\n",
       "      <td>4.761905</td>\n",
       "      <td>3.8200</td>\n",
       "      <td>9.6</td>\n",
       "      <td>2019-03-08 10:29:00</td>\n",
       "      <td>Friday</td>\n",
       "      <td>Morning</td>\n",
       "      <td>March</td>\n",
       "    </tr>\n",
       "    <tr>\n",
       "      <th>2</th>\n",
       "      <td>631-41-3108</td>\n",
       "      <td>A</td>\n",
       "      <td>Yangon</td>\n",
       "      <td>Normal</td>\n",
       "      <td>Male</td>\n",
       "      <td>Home and lifestyle</td>\n",
       "      <td>46.33</td>\n",
       "      <td>7</td>\n",
       "      <td>16.2155</td>\n",
       "      <td>340.5255</td>\n",
       "      <td>...</td>\n",
       "      <td>13:23:00</td>\n",
       "      <td>Credit card</td>\n",
       "      <td>324.31</td>\n",
       "      <td>4.761905</td>\n",
       "      <td>16.2155</td>\n",
       "      <td>7.4</td>\n",
       "      <td>2019-03-03 13:23:00</td>\n",
       "      <td>Sunday</td>\n",
       "      <td>Afternoon</td>\n",
       "      <td>March</td>\n",
       "    </tr>\n",
       "    <tr>\n",
       "      <th>3</th>\n",
       "      <td>123-19-1176</td>\n",
       "      <td>A</td>\n",
       "      <td>Yangon</td>\n",
       "      <td>Member</td>\n",
       "      <td>Male</td>\n",
       "      <td>Health and beauty</td>\n",
       "      <td>58.22</td>\n",
       "      <td>8</td>\n",
       "      <td>23.2880</td>\n",
       "      <td>489.0480</td>\n",
       "      <td>...</td>\n",
       "      <td>20:33:00</td>\n",
       "      <td>Ewallet</td>\n",
       "      <td>465.76</td>\n",
       "      <td>4.761905</td>\n",
       "      <td>23.2880</td>\n",
       "      <td>8.4</td>\n",
       "      <td>2019-01-27 20:33:00</td>\n",
       "      <td>Sunday</td>\n",
       "      <td>Evening</td>\n",
       "      <td>January</td>\n",
       "    </tr>\n",
       "    <tr>\n",
       "      <th>4</th>\n",
       "      <td>373-73-7910</td>\n",
       "      <td>A</td>\n",
       "      <td>Yangon</td>\n",
       "      <td>Normal</td>\n",
       "      <td>Male</td>\n",
       "      <td>Sports and travel</td>\n",
       "      <td>86.31</td>\n",
       "      <td>7</td>\n",
       "      <td>30.2085</td>\n",
       "      <td>634.3785</td>\n",
       "      <td>...</td>\n",
       "      <td>10:37:00</td>\n",
       "      <td>Ewallet</td>\n",
       "      <td>604.17</td>\n",
       "      <td>4.761905</td>\n",
       "      <td>30.2085</td>\n",
       "      <td>5.3</td>\n",
       "      <td>2019-02-08 10:37:00</td>\n",
       "      <td>Friday</td>\n",
       "      <td>Morning</td>\n",
       "      <td>February</td>\n",
       "    </tr>\n",
       "  </tbody>\n",
       "</table>\n",
       "<p>5 rows × 21 columns</p>\n",
       "</div>"
      ],
      "text/plain": [
       "    Invoice ID Branch       City Customer type  Gender  \\\n",
       "0  750-67-8428      A     Yangon        Member  Female   \n",
       "1  226-31-3081      C  Naypyitaw        Normal  Female   \n",
       "2  631-41-3108      A     Yangon        Normal    Male   \n",
       "3  123-19-1176      A     Yangon        Member    Male   \n",
       "4  373-73-7910      A     Yangon        Normal    Male   \n",
       "\n",
       "             Product line  Unit price  Quantity   Tax 5%     Total  ...  \\\n",
       "0       Health and beauty       74.69         7  26.1415  548.9715  ...   \n",
       "1  Electronic accessories       15.28         5   3.8200   80.2200  ...   \n",
       "2      Home and lifestyle       46.33         7  16.2155  340.5255  ...   \n",
       "3       Health and beauty       58.22         8  23.2880  489.0480  ...   \n",
       "4       Sports and travel       86.31         7  30.2085  634.3785  ...   \n",
       "\n",
       "       Time      Payment    cogs  gross margin percentage  gross income  \\\n",
       "0  13:08:00      Ewallet  522.83                 4.761905       26.1415   \n",
       "1  10:29:00         Cash   76.40                 4.761905        3.8200   \n",
       "2  13:23:00  Credit card  324.31                 4.761905       16.2155   \n",
       "3  20:33:00      Ewallet  465.76                 4.761905       23.2880   \n",
       "4  10:37:00      Ewallet  604.17                 4.761905       30.2085   \n",
       "\n",
       "   Rating            datetime  day_name   day_part month_name  \n",
       "0     9.1 2019-01-05 13:08:00  Saturday  Afternoon    January  \n",
       "1     9.6 2019-03-08 10:29:00    Friday    Morning      March  \n",
       "2     7.4 2019-03-03 13:23:00    Sunday  Afternoon      March  \n",
       "3     8.4 2019-01-27 20:33:00    Sunday    Evening    January  \n",
       "4     5.3 2019-02-08 10:37:00    Friday    Morning   February  \n",
       "\n",
       "[5 rows x 21 columns]"
      ]
     },
     "execution_count": 67,
     "metadata": {},
     "output_type": "execute_result"
    }
   ],
   "source": [
    "df.head()"
   ]
  },
  {
   "cell_type": "markdown",
   "metadata": {},
   "source": [
    "## PROJECT'S QUESTIONS\n",
    "\n",
    "### BUSINESS AND SALES ANALYSIS\n",
    "* How many unique cities does the data have?\n",
    "* In which city is each branch?\n",
    "* What is the city with the largest revenue?\n",
    "* Number of sales made in each time of the day per weekday\n",
    "* Which city has the largest tax percent/ VAT (Value Added Tax)?\n",
    "* What is the total revenue by month?\n",
    "* What month had the largest COGS?\n",
    "* Which branch sold more products than average product sold?\n",
    "* How many unique payment methods does the data have?\n",
    "* What is the most common payment method?"
   ]
  },
  {
   "cell_type": "code",
   "execution_count": 51,
   "metadata": {},
   "outputs": [
    {
     "name": "stdout",
     "output_type": "stream",
     "text": [
      "The dataset has 3 unique city: ['Yangon' 'Naypyitaw' 'Mandalay']\n"
     ]
    }
   ],
   "source": [
    "# How many unique cities does the data have?\n",
    "unique_values_city = df['City'].unique()\n",
    "unique_city_count = len(unique_values_city)\n",
    "\n",
    "print(f'The dataset has {unique_city_count} unique city: {unique_values_city}')"
   ]
  },
  {
   "cell_type": "code",
   "execution_count": 58,
   "metadata": {},
   "outputs": [
    {
     "name": "stdout",
     "output_type": "stream",
     "text": [
      "Branch\n",
      "A       Yangon\n",
      "B     Mandalay\n",
      "C    Naypyitaw\n",
      "Name: City, dtype: object\n"
     ]
    }
   ],
   "source": [
    "# In which city is each branch?\n",
    "branch_location = df.groupby('Branch')['City'].first()\n",
    "\n",
    "print(branch_location)"
   ]
  },
  {
   "cell_type": "code",
   "execution_count": 64,
   "metadata": {},
   "outputs": [
    {
     "name": "stdout",
     "output_type": "stream",
     "text": [
      "        City  Total revenue\n",
      "1  Naypyitaw      5265.1765\n",
      "2     Yangon      5057.1605\n",
      "0   Mandalay      5057.0320\n",
      "The coty with the largest revenue is Naypyitaw\n"
     ]
    }
   ],
   "source": [
    "# What is the city with the largest revenue?\n",
    "# Calculate gross income per city\n",
    "city_revenue = df.groupby('City')['gross income'].sum()\n",
    "\n",
    "# Store results in a dataframe\n",
    "city_revenue_df = pd.DataFrame(city_revenue.items(), columns=['City','Total revenue'])\n",
    "\n",
    "# Order the dataframe lines\n",
    "city_revenue_df_sorted = city_revenue_df.sort_values(by='Total revenue', ascending=False)\n",
    "\n",
    "# Get the city with the largest revenue\n",
    "city_with_largest_revenue = city_revenue_df_sorted.iloc[0]['City']\n",
    "\n",
    "print(city_revenue_df_sorted)\n",
    "print('The coty with the largest revenue is',city_with_largest_revenue)"
   ]
  },
  {
   "cell_type": "code",
   "execution_count": 72,
   "metadata": {},
   "outputs": [
    {
     "name": "stdout",
     "output_type": "stream",
     "text": [
      "     day_name   day_part  Total quantity sold\n",
      "0      Friday    Morning                  140\n",
      "1      Friday  Afternoon                  400\n",
      "2      Friday    Evening                  218\n",
      "3      Monday    Morning                  116\n",
      "4      Monday  Afternoon                  387\n",
      "5      Monday    Evening                  135\n",
      "6    Saturday    Morning                  161\n",
      "7    Saturday  Afternoon                  448\n",
      "8    Saturday    Evening                  310\n",
      "9      Sunday    Morning                  144\n",
      "10     Sunday  Afternoon                  421\n",
      "11     Sunday    Evening                  213\n",
      "12   Thursday    Morning                  179\n",
      "13   Thursday  Afternoon                  411\n",
      "14   Thursday    Evening                  165\n",
      "15    Tuesday    Morning                  173\n",
      "16    Tuesday  Afternoon                  404\n",
      "17    Tuesday    Evening                  285\n",
      "18  Wednesday    Morning                  125\n",
      "19  Wednesday  Afternoon                  475\n",
      "20  Wednesday    Evening                  200\n"
     ]
    },
    {
     "name": "stderr",
     "output_type": "stream",
     "text": [
      "C:\\Users\\ilari\\AppData\\Local\\Temp\\ipykernel_16156\\2446510175.py:2: FutureWarning: The default of observed=False is deprecated and will be changed to True in a future version of pandas. Pass observed=False to retain current behavior or observed=True to adopt the future default and silence this warning.\n",
      "  sales_time_day = df.groupby(['day_name','day_part'])['Quantity'].sum()\n"
     ]
    }
   ],
   "source": [
    "# Number of sales made in each time of the day per weekday\n",
    "sales_time_day = df.groupby(['day_name','day_part'])['Quantity'].sum()\n",
    "\n",
    "sales_time_day_df = sales_time_day.reset_index(name='Total quantity sold')\n",
    "\n",
    "print(sales_time_day_df)"
   ]
  },
  {
   "cell_type": "code",
   "execution_count": 73,
   "metadata": {},
   "outputs": [
    {
     "name": "stdout",
     "output_type": "stream",
     "text": [
      "The city with the largest VAT amount is: Naypyitaw\n",
      "The largest VAT amount is: 16.05236737804878\n",
      "        City        VAT\n",
      "0   Mandalay  15.232024\n",
      "1  Naypyitaw  16.052367\n",
      "2     Yangon  14.874001\n",
      "        City        VAT\n",
      "1  Naypyitaw  16.052367\n",
      "0   Mandalay  15.232024\n",
      "2     Yangon  14.874001\n"
     ]
    }
   ],
   "source": [
    "# Which city has the largest tax percent/ VAT (Value Added Tax)?\n",
    "\n",
    "# Group by product line and calculate the total VAT for each product line\n",
    "city_vat = df.groupby('City')['Tax 5%'].mean()\n",
    "\n",
    "# Save results in a dataframe\n",
    "city_vat_df = pd.DataFrame(city_vat.items(), columns = ['City', 'VAT'])\n",
    "\n",
    "# Arranging values in descending order\n",
    "city_vat_sorted = city_vat_df.sort_values(by='VAT', ascending=False)\n",
    "\n",
    "# Find the product line with the largest VAT amount\n",
    "largest_vat_city = city_vat.idxmax()\n",
    "largest_vat_amount = city_vat.max()\n",
    "\n",
    "#Print results\n",
    "print(\"The city with the largest VAT amount is:\", largest_vat_city)\n",
    "print(\"The largest VAT amount is:\", largest_vat_amount)\n",
    "print(city_vat_df)\n",
    "print(city_vat_sorted)\n"
   ]
  },
  {
   "cell_type": "code",
   "execution_count": 75,
   "metadata": {},
   "outputs": [
    {
     "name": "stdout",
     "output_type": "stream",
     "text": [
      "month_name\n",
      "February    4629.494\n",
      "January     5537.708\n",
      "March       5212.167\n",
      "Name: gross income, dtype: float64\n"
     ]
    }
   ],
   "source": [
    "# What is the total revenue by month?\n",
    "total_revenue_month = df.groupby('month_name')['gross income'].sum()\n",
    "print(total_revenue_month)"
   ]
  },
  {
   "cell_type": "code",
   "execution_count": 91,
   "metadata": {},
   "outputs": [
    {
     "name": "stdout",
     "output_type": "stream",
     "text": [
      "      Month  Total COGS\n",
      "0   January   110754.16\n",
      "1     March   104243.34\n",
      "2  February    92589.88\n",
      "\n",
      "\n",
      "The month with the largest COGS is January with $110754.16 total COGS\n"
     ]
    }
   ],
   "source": [
    "# What month had the largest COGS?\n",
    "total_cogs_month = df.groupby('month_name')['cogs'].sum()\n",
    "\n",
    "# Sort the result in descending order\n",
    "total_cogs_month_sorted = total_cogs_month.sort_values(ascending=False)\n",
    "total_cogs_month_sorted_df = pd.DataFrame(total_cogs_month_sorted.items(), columns=['Month', 'Total COGS'])\n",
    "\n",
    "# Get the month with the largest COGS\n",
    "largest_cogs_month = total_cogs_month_sorted_df.iloc[0]['Month']\n",
    "largest_cogs_amount = total_cogs_month_sorted_df.iloc[0]['Total COGS']\n",
    "\n",
    "print(total_cogs_month_sorted_df)\n",
    "print('\\n')\n",
    "print(f'The month with the largest COGS is {largest_cogs_month} with ${largest_cogs_amount} total COGS')\n"
   ]
  },
  {
   "cell_type": "code",
   "execution_count": 99,
   "metadata": {},
   "outputs": [
    {
     "name": "stdout",
     "output_type": "stream",
     "text": [
      "Average quantity sold: 1836.6666666666667\n",
      "Total quantity sold by each branch:\n",
      "Branch\n",
      "A    1859\n",
      "B    1820\n",
      "C    1831\n",
      "Name: Quantity, dtype: int64\n",
      "Branches that sold more products than the average:\n",
      "Branch\n",
      "A    1859\n",
      "Name: Quantity, dtype: int64\n"
     ]
    }
   ],
   "source": [
    "# Which branch sold more products than average product sold?\n",
    "# Calculate the average quantity sold across all branches\n",
    "average_product_sold = df['Quantity'].sum() / len(df['Branch'].unique())\n",
    "\n",
    "# Calculate the total quantity sold by each branch\n",
    "total_quantity_sold_by_branch = df.groupby('Branch')['Quantity'].sum()\n",
    "\n",
    "# Print the average quantity sold and total quantity sold by each branch\n",
    "print(\"Average quantity sold:\", average_product_sold)\n",
    "print(\"Total quantity sold by each branch:\")\n",
    "print(total_quantity_sold_by_branch)\n",
    "\n",
    "# Find branches that sold more products than the average\n",
    "branches_above_average = total_quantity_sold_by_branch[total_quantity_sold_by_branch > average_product_sold]\n",
    "print(\"Branches that sold more products than the average:\")\n",
    "print(branches_above_average)"
   ]
  },
  {
   "cell_type": "code",
   "execution_count": 108,
   "metadata": {},
   "outputs": [
    {
     "name": "stdout",
     "output_type": "stream",
     "text": [
      "Payment\n",
      "Ewallet        345\n",
      "Cash           344\n",
      "Credit card    311\n",
      "Name: count, dtype: int64\n",
      "\n",
      "\n",
      "The most common payment method is: Ewallet\n"
     ]
    }
   ],
   "source": [
    "# What is the most common payment method?\n",
    "payment_method = df['Payment'].value_counts()\n",
    "most_common_payment_method = df['Payment'].value_counts().idxmax()\n",
    "print(payment_method)\n",
    "print('\\n')\n",
    "print(\"The most common payment method is:\", most_common_payment_method)\n"
   ]
  },
  {
   "cell_type": "markdown",
   "metadata": {},
   "source": [
    "### PRODUCT ANALYSIS\n",
    "* How many unique product lines does the data have?\n",
    "* What is the most selling product line?\n",
    "* What product line had the largest revenue?\n",
    "* What product line had the largest VAT?\n",
    "* What is the most common product line by gender?\n",
    "* What is the average rating of each product line?"
   ]
  },
  {
   "cell_type": "code",
   "execution_count": 38,
   "metadata": {},
   "outputs": [
    {
     "name": "stdout",
     "output_type": "stream",
     "text": [
      "<class 'pandas.core.frame.DataFrame'>\n",
      "RangeIndex: 1000 entries, 0 to 999\n",
      "Data columns (total 17 columns):\n",
      " #   Column                   Non-Null Count  Dtype  \n",
      "---  ------                   --------------  -----  \n",
      " 0   Invoice ID               1000 non-null   object \n",
      " 1   Branch                   1000 non-null   object \n",
      " 2   City                     1000 non-null   object \n",
      " 3   Customer type            1000 non-null   object \n",
      " 4   Gender                   1000 non-null   object \n",
      " 5   Product line             1000 non-null   object \n",
      " 6   Unit price               1000 non-null   float64\n",
      " 7   Quantity                 1000 non-null   int64  \n",
      " 8   Tax 5%                   1000 non-null   float64\n",
      " 9   Total                    1000 non-null   float64\n",
      " 10  Date                     1000 non-null   object \n",
      " 11  Time                     1000 non-null   object \n",
      " 12  Payment                  1000 non-null   object \n",
      " 13  cogs                     1000 non-null   float64\n",
      " 14  gross margin percentage  1000 non-null   float64\n",
      " 15  gross income             1000 non-null   float64\n",
      " 16  Rating                   1000 non-null   float64\n",
      "dtypes: float64(7), int64(1), object(9)\n",
      "memory usage: 132.9+ KB\n"
     ]
    }
   ],
   "source": [
    "df.info()"
   ]
  },
  {
   "cell_type": "code",
   "execution_count": 34,
   "metadata": {},
   "outputs": [
    {
     "name": "stdout",
     "output_type": "stream",
     "text": [
      "['Health and beauty' 'Electronic accessories' 'Home and lifestyle'\n",
      " 'Sports and travel' 'Food and beverages' 'Fashion accessories']\n",
      "             Product line\n",
      "0       Health and beauty\n",
      "1  Electronic accessories\n",
      "2      Home and lifestyle\n",
      "3       Sports and travel\n",
      "4      Food and beverages\n",
      "5     Fashion accessories\n"
     ]
    }
   ],
   "source": [
    "# How many unique product lines the data set has?\n",
    "\n",
    "# Calculating unique values, unique() generates an array\n",
    "unique_values_product_line = df['Product line'].unique()\n",
    "\n",
    "# Create a DataFrame with the unique values\n",
    "unique_values_df = pd.DataFrame({'Product line': unique_values_product_line})\n",
    "\n",
    "# Save the DataFrame to a CSV file\n",
    "#unique_values_df.to_csv('unique_product_lines.csv', index=False)\n",
    "\n",
    "# print the array generated by unique()\n",
    "print(unique_values_product_line)\n",
    "\n",
    "#print the df generated from the array\n",
    "print(unique_values_df)"
   ]
  },
  {
   "cell_type": "code",
   "execution_count": 35,
   "metadata": {},
   "outputs": [
    {
     "name": "stdout",
     "output_type": "stream",
     "text": [
      "             Product_line  Quantity sold\n",
      "0  Electronic accessories            971\n",
      "2      Food and beverages            952\n",
      "5       Sports and travel            920\n",
      "4      Home and lifestyle            911\n",
      "1     Fashion accessories            902\n",
      "3       Health and beauty            854\n"
     ]
    }
   ],
   "source": [
    "# What is the most selling product line?\n",
    "# Calculating total quantity sold per product line\n",
    "productline_quantity_sold = df.groupby('Product line')['Quantity'].sum()\n",
    "\n",
    "# Create a data frame with the values\n",
    "productline_quantity_sold_df = pd.DataFrame(productline_quantity_sold.items(), columns = ['Product_line', 'Quantity sold'])\n",
    "\n",
    "# Sort the DataFrame by 'Total sales' column in descending order\n",
    "productline_quantity_sold_df_sorted = productline_quantity_sold_df.sort_values(by='Quantity sold', ascending=False)\n",
    "\n",
    "#print the data frame\n",
    "print(productline_quantity_sold_df_sorted)"
   ]
  },
  {
   "cell_type": "code",
   "execution_count": 36,
   "metadata": {},
   "outputs": [
    {
     "name": "stdout",
     "output_type": "stream",
     "text": [
      "             Product_line  Total sales\n",
      "2      Food and beverages    2673.5640\n",
      "5       Sports and travel    2624.8965\n",
      "0  Electronic accessories    2587.5015\n",
      "1     Fashion accessories    2585.9950\n",
      "4      Home and lifestyle    2564.8530\n",
      "3       Health and beauty    2342.5590\n"
     ]
    }
   ],
   "source": [
    "# What product line had the largest revenue?\n",
    "# Calculating total sales per product line\n",
    "productline_sales = df.groupby('Product line')['gross income'].sum()\n",
    "# Create a data frame with the values\n",
    "productline_sales_df = pd.DataFrame(productline_sales.items(), columns = ['Product_line', 'Total sales'])\n",
    "# Sort the DataFrame by 'Total sales' column in descending order\n",
    "productline_sales_df_sorted = productline_sales_df.sort_values(by='Total sales', ascending=False)\n",
    "#print the data frame\n",
    "print(productline_sales_df_sorted)"
   ]
  },
  {
   "cell_type": "code",
   "execution_count": 37,
   "metadata": {},
   "outputs": [
    {
     "name": "stdout",
     "output_type": "stream",
     "text": [
      "The product line with the largest VAT amount is: Home and lifestyle\n",
      "The largest VAT amount is: 16.03033125\n",
      "             Product_line        VAT\n",
      "0  Electronic accessories  15.220597\n",
      "1     Fashion accessories  14.528062\n",
      "2      Food and beverages  15.365310\n",
      "3       Health and beauty  15.411572\n",
      "4      Home and lifestyle  16.030331\n",
      "5       Sports and travel  15.812630\n",
      "             Product_line        VAT\n",
      "4      Home and lifestyle  16.030331\n",
      "5       Sports and travel  15.812630\n",
      "3       Health and beauty  15.411572\n",
      "2      Food and beverages  15.365310\n",
      "0  Electronic accessories  15.220597\n",
      "1     Fashion accessories  14.528062\n"
     ]
    }
   ],
   "source": [
    "# What product line had the largest VAT?\n",
    "# Group by product line and calculate the total VAT for each product line\n",
    "product_vat = df.groupby('Product line')['Tax 5%'].mean()\n",
    "\n",
    "# Save results in a dataframe\n",
    "product_vat_df = pd.DataFrame(product_vat.items(), columns = ['Product_line', 'VAT'])\n",
    "\n",
    "# Arranging values in descending order\n",
    "product_vat_sorted = product_vat_df.sort_values(by='VAT', ascending=False)\n",
    "\n",
    "# Find the product line with the largest VAT amount\n",
    "largest_vat_product_line = product_vat.idxmax()\n",
    "largest_vat_amount = product_vat.max()\n",
    "\n",
    "#Print results\n",
    "print(\"The product line with the largest VAT amount is:\", largest_vat_product_line)\n",
    "print(\"The largest VAT amount is:\", largest_vat_amount)\n",
    "print(product_vat_df)\n",
    "print(product_vat_sorted)"
   ]
  },
  {
   "cell_type": "code",
   "execution_count": 38,
   "metadata": {},
   "outputs": [
    {
     "name": "stdout",
     "output_type": "stream",
     "text": [
      "Sales comparison by product line and gender:\n",
      "Gender                  Female  Male Higher sales gender\n",
      "Product line                                            \n",
      "Electronic accessories     488   483              Female\n",
      "Fashion accessories        530   372              Female\n",
      "Food and beverages         514   438              Female\n",
      "Health and beauty          343   511                Male\n",
      "Home and lifestyle         498   413              Female\n",
      "Sports and travel          496   424              Female\n"
     ]
    }
   ],
   "source": [
    "# What is the most common product line by gender?\n",
    "# Group by product line and gender, and sum the quantity purchased\n",
    "product_line_gender = df.groupby(['Product line', 'Gender'])['Quantity'].sum()\n",
    "\n",
    "# Create a dataframe with the results, cant use items because product_line_gender is a series\n",
    "# product_line_gender_df = pd.DataFrame(product_line_gender.items(), columns =['Product line', 'Gender', 'Total quantity sold'])\n",
    "# Convert the Series to a DataFrame\n",
    "product_line_gender_df = product_line_gender.reset_index(name='Total quantity sold')\n",
    "\n",
    "# Pivot the DataFrame to have product lines as rows and genders as columns\n",
    "product_line_gender_pivot = product_line_gender_df.pivot(index='Product line', columns='Gender', values='Total quantity sold')\n",
    "\n",
    "# Find for each product line if sales are higher among females or males\n",
    "product_line_gender_pivot['Higher sales gender'] = product_line_gender_pivot.idxmax(axis=1)\n",
    "\n",
    "print(\"Sales comparison by product line and gender:\")\n",
    "print(product_line_gender_pivot)"
   ]
  },
  {
   "cell_type": "code",
   "execution_count": 39,
   "metadata": {},
   "outputs": [
    {
     "name": "stdout",
     "output_type": "stream",
     "text": [
      "             product line  average rating\n",
      "2      Food and beverages        7.113218\n",
      "1     Fashion accessories        7.029213\n",
      "3       Health and beauty        7.003289\n",
      "0  Electronic accessories        6.924706\n",
      "5       Sports and travel        6.916265\n",
      "4      Home and lifestyle        6.837500\n"
     ]
    }
   ],
   "source": [
    "# What is the average rating of each product line?#\n",
    "# Finding average rating pre productline\n",
    "productline_rating = df.groupby('Product line')['Rating'].mean()\n",
    "\n",
    "#Save results into a dataframe for clear visualisation\n",
    "productline_rating_df = pd.DataFrame(productline_rating.items(), columns=['product line', 'average rating'])\n",
    "\n",
    "#Sorting the line in descending order to highlight productline with highest rating\n",
    "productline_rating_df_sorted = productline_rating_df.sort_values(by='average rating', ascending=False)\n",
    "\n",
    "# Print results\n",
    "print(productline_rating_df_sorted)"
   ]
  },
  {
   "cell_type": "markdown",
   "metadata": {},
   "source": [
    "### CUSTOMER ANALYSIS\n",
    "* How many unique customer types does the data have?\n",
    "* Which customer type buys the most?\n",
    "* Which of the customer types brings the most revenue?\n",
    "* What is the most common customer type?\n",
    "* Which customer type buys the most?\n",
    "* Which customer type pays the most in VAT?\n",
    "* What is the gender of most of the customers?\n",
    "* What is the gender distribution per branch?\n",
    "* Which time of the day do customers give most ratings?\n",
    "* Which time of the day do customers give most ratings per branch?\n",
    "* Which day fo the week has the best avg ratings?\n",
    "* Which day of the week has the best average ratings per branch?\n"
   ]
  },
  {
   "cell_type": "code",
   "execution_count": 10,
   "metadata": {},
   "outputs": [
    {
     "name": "stdout",
     "output_type": "stream",
     "text": [
      "<class 'pandas.core.frame.DataFrame'>\n",
      "RangeIndex: 1000 entries, 0 to 999\n",
      "Data columns (total 17 columns):\n",
      " #   Column                   Non-Null Count  Dtype  \n",
      "---  ------                   --------------  -----  \n",
      " 0   Invoice ID               1000 non-null   object \n",
      " 1   Branch                   1000 non-null   object \n",
      " 2   City                     1000 non-null   object \n",
      " 3   Customer type            1000 non-null   object \n",
      " 4   Gender                   1000 non-null   object \n",
      " 5   Product line             1000 non-null   object \n",
      " 6   Unit price               1000 non-null   float64\n",
      " 7   Quantity                 1000 non-null   int64  \n",
      " 8   Tax 5%                   1000 non-null   float64\n",
      " 9   Total                    1000 non-null   float64\n",
      " 10  Date                     1000 non-null   object \n",
      " 11  Time                     1000 non-null   object \n",
      " 12  Payment                  1000 non-null   object \n",
      " 13  cogs                     1000 non-null   float64\n",
      " 14  gross margin percentage  1000 non-null   float64\n",
      " 15  gross income             1000 non-null   float64\n",
      " 16  Rating                   1000 non-null   float64\n",
      "dtypes: float64(7), int64(1), object(9)\n",
      "memory usage: 132.9+ KB\n"
     ]
    }
   ],
   "source": [
    "df.info()"
   ]
  },
  {
   "cell_type": "code",
   "execution_count": 13,
   "metadata": {},
   "outputs": [
    {
     "name": "stdout",
     "output_type": "stream",
     "text": [
      "Highest spending customer type: Member\n",
      "Customer type\n",
      "Member    7820.164\n",
      "Normal    7559.205\n",
      "Name: gross income, dtype: float64\n"
     ]
    }
   ],
   "source": [
    "#Which of the customer type brings more revenue?\n",
    "# Group by product line and calculate total revenue\n",
    "total_revenue_per_customertype = df.groupby('Customer type')['gross income'].sum()\n",
    "\n",
    "# Find the product line with the highest total revenue\n",
    "highest_spending_customertype = total_revenue_per_customertype.idxmax()\n",
    "\n",
    "print(\"Highest spending customer type:\", highest_spending_customertype)\n",
    "print(total_revenue_per_customertype)"
   ]
  },
  {
   "cell_type": "code",
   "execution_count": 24,
   "metadata": {},
   "outputs": [
    {
     "name": "stdout",
     "output_type": "stream",
     "text": [
      "The most common customer type is Member\n",
      "  Customer Type  Count\n",
      "0        Member    501\n",
      "1        Normal    499\n"
     ]
    }
   ],
   "source": [
    "# What is the most common customer type\n",
    "# Count different customer types occurrence\n",
    "customer_count = df['Customer type'].value_counts()\n",
    "# Create a DataFrame from the customer type counts\n",
    "customer_counts_df = pd.DataFrame(customer_count.items(), columns=['Customer Type', 'Count'])\n",
    "\n",
    "most_common_customer_type = customer_count.idxmax()\n",
    "customer_count\n",
    "print('The most common customer type is', most_common_customer_type)\n",
    "print(customer_counts_df)"
   ]
  },
  {
   "cell_type": "code",
   "execution_count": 29,
   "metadata": {},
   "outputs": [
    {
     "name": "stdout",
     "output_type": "stream",
     "text": [
      "The biggest customer type buyer is Member\n",
      "  Customer type  Quantity bought\n",
      "0        Member             2785\n",
      "1        Normal             2725\n"
     ]
    }
   ],
   "source": [
    "# Which customer type buys the most?\n",
    "buyers = df.groupby('Customer type')['Quantity'].sum()\n",
    "\n",
    "buyers_df = pd.DataFrame(buyers.items(), columns=['Customer type', 'Quantity bought'])\n",
    "\n",
    "bigger_buyer = buyers.idxmax()\n",
    "\n",
    "print('The biggest customer type buyer is', bigger_buyer)\n",
    "print(buyers_df)"
   ]
  },
  {
   "cell_type": "code",
   "execution_count": 31,
   "metadata": {},
   "outputs": [
    {
     "name": "stdout",
     "output_type": "stream",
     "text": [
      "The customer type who pays the most VAT is Member\n",
      "  Customer type   VAT paid\n",
      "0        Member  15.609110\n",
      "1        Normal  15.148707\n"
     ]
    }
   ],
   "source": [
    "# Which customer type pays the most in VAT?\n",
    "tax_paid = df.groupby('Customer type')['Tax 5%'].mean()\n",
    "tax_paid_df = pd.DataFrame(tax_paid.items(), columns=['Customer type', 'VAT paid'])\n",
    "highest_tax_payer = tax_paid.idxmax()\n",
    "print('The customer type who pays the most VAT is',highest_tax_payer)\n",
    "print(tax_paid_df)"
   ]
  },
  {
   "cell_type": "code",
   "execution_count": 32,
   "metadata": {},
   "outputs": [
    {
     "name": "stdout",
     "output_type": "stream",
     "text": [
      "   Gender  Count\n",
      "0  Female    501\n",
      "1    Male    499\n",
      "The most common gender among customer is Female\n"
     ]
    }
   ],
   "source": [
    "# What is the gender of most customers?\n",
    "gender = df['Gender'].value_counts()\n",
    "most_common_gender = gender.idxmax()\n",
    "gender_df = pd.DataFrame(gender.items(), columns=['Gender', 'Count'])\n",
    "print(gender_df)\n",
    "print('The most common gender among customer is', most_common_gender)"
   ]
  },
  {
   "cell_type": "code",
   "execution_count": 34,
   "metadata": {},
   "outputs": [
    {
     "name": "stdout",
     "output_type": "stream",
     "text": [
      "  Branch  Gender  Gender count\n",
      "0      A  Female           161\n",
      "1      A    Male           179\n",
      "2      B  Female           162\n",
      "3      B    Male           170\n",
      "4      C  Female           178\n",
      "5      C    Male           150\n"
     ]
    }
   ],
   "source": [
    "# What is the gender distribution by branch?\n",
    "# Group by branch and gender, and count occurrences\n",
    "gender_by_branch = df.groupby(['Branch', 'Gender']).size()\n",
    "\n",
    "# Convert the Series to a DataFrame and reset index\n",
    "gender_by_branch_df = gender_by_branch.reset_index(name='Gender count')\n",
    "\n",
    "print(gender_by_branch_df)"
   ]
  },
  {
   "cell_type": "code",
   "execution_count": 111,
   "metadata": {},
   "outputs": [
    {
     "name": "stdout",
     "output_type": "stream",
     "text": [
      "<class 'pandas.core.frame.DataFrame'>\n",
      "RangeIndex: 1000 entries, 0 to 999\n",
      "Data columns (total 21 columns):\n",
      " #   Column                   Non-Null Count  Dtype         \n",
      "---  ------                   --------------  -----         \n",
      " 0   Invoice ID               1000 non-null   object        \n",
      " 1   Branch                   1000 non-null   object        \n",
      " 2   City                     1000 non-null   object        \n",
      " 3   Customer type            1000 non-null   object        \n",
      " 4   Gender                   1000 non-null   object        \n",
      " 5   Product line             1000 non-null   object        \n",
      " 6   Unit price               1000 non-null   float64       \n",
      " 7   Quantity                 1000 non-null   int64         \n",
      " 8   Tax 5%                   1000 non-null   float64       \n",
      " 9   Total                    1000 non-null   float64       \n",
      " 10  Date                     1000 non-null   object        \n",
      " 11  Time                     1000 non-null   object        \n",
      " 12  Payment                  1000 non-null   object        \n",
      " 13  cogs                     1000 non-null   float64       \n",
      " 14  gross margin percentage  1000 non-null   float64       \n",
      " 15  gross income             1000 non-null   float64       \n",
      " 16  Rating                   1000 non-null   float64       \n",
      " 17  datetime                 1000 non-null   datetime64[ns]\n",
      " 18  day_name                 1000 non-null   object        \n",
      " 19  day_part                 1000 non-null   category      \n",
      " 20  month_name               1000 non-null   object        \n",
      "dtypes: category(1), datetime64[ns](1), float64(7), int64(1), object(11)\n",
      "memory usage: 157.5+ KB\n"
     ]
    }
   ],
   "source": [
    "df.info()"
   ]
  },
  {
   "cell_type": "code",
   "execution_count": 114,
   "metadata": {},
   "outputs": [
    {
     "name": "stdout",
     "output_type": "stream",
     "text": [
      "('Afternoon', 6.0)\n"
     ]
    },
    {
     "name": "stderr",
     "output_type": "stream",
     "text": [
      "C:\\Users\\ilari\\AppData\\Local\\Temp\\ipykernel_16156\\3629794262.py:2: FutureWarning: The default of observed=False is deprecated and will be changed to True in a future version of pandas. Pass observed=False to retain current behavior or observed=True to adopt the future default and silence this warning.\n",
      "  ratings = df.groupby('day_part')['Rating'].value_counts().idxmax()\n"
     ]
    }
   ],
   "source": [
    "# Which time of the day the customer gives more rating?\n",
    "ratings = df.groupby('day_part')['Rating'].value_counts().idxmax()\n",
    "print(ratings)"
   ]
  },
  {
   "cell_type": "code",
   "execution_count": 127,
   "metadata": {},
   "outputs": [
    {
     "name": "stdout",
     "output_type": "stream",
     "text": [
      "Branch  day_part \n",
      "A       Morning       73\n",
      "        Afternoon    185\n",
      "        Evening       82\n",
      "B       Morning       59\n",
      "        Afternoon    162\n",
      "        Evening      111\n",
      "C       Morning       59\n",
      "        Afternoon    181\n",
      "        Evening       88\n",
      "Name: Rating, dtype: int64\n",
      "Branch\n",
      "A    (A, Afternoon)\n",
      "B    (B, Afternoon)\n",
      "C    (C, Afternoon)\n",
      "Name: Rating, dtype: object\n"
     ]
    },
    {
     "name": "stderr",
     "output_type": "stream",
     "text": [
      "C:\\Users\\ilari\\AppData\\Local\\Temp\\ipykernel_16156\\194732609.py:2: FutureWarning: The default of observed=False is deprecated and will be changed to True in a future version of pandas. Pass observed=False to retain current behavior or observed=True to adopt the future default and silence this warning.\n",
      "  ratings = df.groupby(['Branch', 'day_part'])['Rating'].count()\n"
     ]
    }
   ],
   "source": [
    "# What time of the day do customers leaves more rating per branch?\n",
    "ratings = df.groupby(['Branch', 'day_part'])['Rating'].count()\n",
    "\n",
    "# Find the time of day with the most ratings per branch\n",
    "most_ratings_per_branch = ratings.groupby('Branch').idxmax()\n",
    "\n",
    "print(ratings)\n",
    "print(most_ratings_per_branch)\n",
    "\n"
   ]
  },
  {
   "cell_type": "code",
   "execution_count": 130,
   "metadata": {},
   "outputs": [
    {
     "name": "stdout",
     "output_type": "stream",
     "text": [
      "Average ratings for each day of the week:\n",
      "day_name\n",
      "Friday       7.076259\n",
      "Monday       7.153600\n",
      "Saturday     6.901829\n",
      "Sunday       7.011278\n",
      "Thursday     6.889855\n",
      "Tuesday      7.003165\n",
      "Wednesday    6.805594\n",
      "Name: Rating, dtype: float64\n",
      "Day with the best average rating: Monday\n"
     ]
    }
   ],
   "source": [
    "# Which day of the week has the best average rating?\n",
    "\n",
    "avg_ratings = df.groupby(['day_name'])['Rating'].mean()\n",
    "\n",
    "# Find the day of the week with the best average rating\n",
    "day_best_ratings = avg_ratings.idxmax()\n",
    "\n",
    "print(\"Average ratings for each day of the week:\")\n",
    "print(avg_ratings)\n",
    "print(\"Day with the best average rating:\", day_best_ratings)\n"
   ]
  },
  {
   "cell_type": "code",
   "execution_count": 132,
   "metadata": {},
   "outputs": [
    {
     "name": "stdout",
     "output_type": "stream",
     "text": [
      "Average ratings for each day of the week:\n",
      "Branch  day_name \n",
      "A       Friday       7.312000\n",
      "        Monday       7.097917\n",
      "        Saturday     6.746000\n",
      "        Sunday       7.078846\n",
      "        Thursday     6.958696\n",
      "        Tuesday      7.058824\n",
      "        Wednesday    6.916279\n",
      "B       Friday       6.694118\n",
      "        Monday       7.335897\n",
      "        Saturday     6.736667\n",
      "        Sunday       6.888571\n",
      "        Thursday     6.752273\n",
      "        Tuesday      7.001887\n",
      "        Wednesday    6.452000\n",
      "C       Friday       7.278947\n",
      "        Monday       7.036842\n",
      "        Saturday     7.229630\n",
      "        Sunday       7.028261\n",
      "        Thursday     6.950000\n",
      "        Tuesday      6.951852\n",
      "        Wednesday    7.064000\n",
      "Name: Rating, dtype: float64\n",
      "Day with the best average rating per branch:\n",
      "Branch\n",
      "A    (A, Friday)\n",
      "B    (B, Monday)\n",
      "C    (C, Friday)\n",
      "Name: Rating, dtype: object\n"
     ]
    }
   ],
   "source": [
    "# Which day of the week has the best average rating per branch? \n",
    "\n",
    "avg_ratings = df.groupby(['Branch', 'day_name'])['Rating'].mean()\n",
    "\n",
    "# Find the day of the week with the best average rating per branch\n",
    "day_best_ratings = avg_ratings.groupby('Branch').idxmax()\n",
    "\n",
    "print(\"Average ratings for each day of the week:\")\n",
    "print(avg_ratings)\n",
    "print(\"Day with the best average rating per branch:\")\n",
    "print(day_best_ratings)"
   ]
  }
 ],
 "metadata": {
  "kernelspec": {
   "display_name": "base",
   "language": "python",
   "name": "python3"
  },
  "language_info": {
   "codemirror_mode": {
    "name": "ipython",
    "version": 3
   },
   "file_extension": ".py",
   "mimetype": "text/x-python",
   "name": "python",
   "nbconvert_exporter": "python",
   "pygments_lexer": "ipython3",
   "version": "3.11.7"
  }
 },
 "nbformat": 4,
 "nbformat_minor": 2
}
